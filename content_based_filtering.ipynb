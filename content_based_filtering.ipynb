{
  "nbformat": 4,
  "nbformat_minor": 0,
  "metadata": {
    "colab": {
      "provenance": []
    },
    "kernelspec": {
      "name": "python3",
      "display_name": "Python 3"
    },
    "language_info": {
      "name": "python"
    }
  },
  "cells": [
    {
      "cell_type": "code",
      "execution_count": 21,
      "metadata": {
        "id": "CMX3SEgGyvex"
      },
      "outputs": [],
      "source": [
        "# Importing Libraries\n",
        "import numpy as np\n",
        "import pandas as pd\n",
        "import seaborn as sns\n",
        "import matplotlib.pyplot as plt\n",
        "from sklearn.preprocessing import StandardScaler\n",
        "from sklearn.metrics.pairwise import cosine_similarity\n"
      ]
    },
    {
      "cell_type": "code",
      "source": [
        "# Data Description\n",
        "users = pd.read_csv('/content/sample_data/Users.csv')\n",
        "books = pd.read_csv('/content/sample_data/Books.csv')\n",
        "ratings = pd.read_csv('/content/sample_data/Ratings.csv')\n",
        "\n",
        "# Display information about the datasets\n",
        "print(users.info())\n",
        "\n",
        "\n"
      ],
      "metadata": {
        "colab": {
          "base_uri": "https://localhost:8080/"
        },
        "id": "rD2cKu3F2hKO",
        "outputId": "43668586-db70-471f-b355-5234392967f5"
      },
      "execution_count": 32,
      "outputs": [
        {
          "output_type": "stream",
          "name": "stderr",
          "text": [
            "<ipython-input-32-e491d4338da1>:3: DtypeWarning: Columns (3) have mixed types. Specify dtype option on import or set low_memory=False.\n",
            "  books = pd.read_csv('/content/sample_data/Books.csv')\n"
          ]
        },
        {
          "output_type": "stream",
          "name": "stdout",
          "text": [
            "<class 'pandas.core.frame.DataFrame'>\n",
            "RangeIndex: 278858 entries, 0 to 278857\n",
            "Data columns (total 3 columns):\n",
            " #   Column    Non-Null Count   Dtype  \n",
            "---  ------    --------------   -----  \n",
            " 0   User-ID   278858 non-null  int64  \n",
            " 1   Location  278858 non-null  object \n",
            " 2   Age       168096 non-null  float64\n",
            "dtypes: float64(1), int64(1), object(1)\n",
            "memory usage: 6.4+ MB\n",
            "None\n"
          ]
        }
      ]
    },
    {
      "cell_type": "code",
      "source": [
        "print(users.shape)\n"
      ],
      "metadata": {
        "colab": {
          "base_uri": "https://localhost:8080/"
        },
        "id": "anWWXB-2ABPM",
        "outputId": "8d3d50cb-b65c-4d9d-f3bc-fcabe6ad4dfd"
      },
      "execution_count": 33,
      "outputs": [
        {
          "output_type": "stream",
          "name": "stdout",
          "text": [
            "(278858, 3)\n"
          ]
        }
      ]
    },
    {
      "cell_type": "code",
      "source": [
        "print(books.info())\n"
      ],
      "metadata": {
        "colab": {
          "base_uri": "https://localhost:8080/"
        },
        "id": "twuUGHK5AC8M",
        "outputId": "1c69f70a-2ad2-4cd4-cae8-bd15962b2870"
      },
      "execution_count": 34,
      "outputs": [
        {
          "output_type": "stream",
          "name": "stdout",
          "text": [
            "<class 'pandas.core.frame.DataFrame'>\n",
            "RangeIndex: 271360 entries, 0 to 271359\n",
            "Data columns (total 8 columns):\n",
            " #   Column               Non-Null Count   Dtype \n",
            "---  ------               --------------   ----- \n",
            " 0   ISBN                 271360 non-null  object\n",
            " 1   Book-Title           271360 non-null  object\n",
            " 2   Book-Author          271358 non-null  object\n",
            " 3   Year-Of-Publication  271360 non-null  object\n",
            " 4   Publisher            271358 non-null  object\n",
            " 5   Image-URL-S          271360 non-null  object\n",
            " 6   Image-URL-M          271360 non-null  object\n",
            " 7   Image-URL-L          271357 non-null  object\n",
            "dtypes: object(8)\n",
            "memory usage: 16.6+ MB\n",
            "None\n"
          ]
        }
      ]
    },
    {
      "cell_type": "code",
      "source": [
        "print(books.shape)\n"
      ],
      "metadata": {
        "colab": {
          "base_uri": "https://localhost:8080/"
        },
        "id": "5xncqSQ9AEgX",
        "outputId": "aada1e0e-b715-4631-978c-538db7dd546f"
      },
      "execution_count": 35,
      "outputs": [
        {
          "output_type": "stream",
          "name": "stdout",
          "text": [
            "(271360, 8)\n"
          ]
        }
      ]
    },
    {
      "cell_type": "code",
      "source": [
        "print(ratings.info())\n"
      ],
      "metadata": {
        "colab": {
          "base_uri": "https://localhost:8080/"
        },
        "id": "5M4jb3KaAGxx",
        "outputId": "f57f4ef5-b926-43b2-93b6-7ce5f094acf8"
      },
      "execution_count": 36,
      "outputs": [
        {
          "output_type": "stream",
          "name": "stdout",
          "text": [
            "<class 'pandas.core.frame.DataFrame'>\n",
            "RangeIndex: 1149780 entries, 0 to 1149779\n",
            "Data columns (total 3 columns):\n",
            " #   Column       Non-Null Count    Dtype \n",
            "---  ------       --------------    ----- \n",
            " 0   User-ID      1149780 non-null  int64 \n",
            " 1   ISBN         1149780 non-null  object\n",
            " 2   Book-Rating  1149780 non-null  int64 \n",
            "dtypes: int64(2), object(1)\n",
            "memory usage: 26.3+ MB\n",
            "None\n"
          ]
        }
      ]
    },
    {
      "cell_type": "code",
      "source": [
        "print(ratings.shape)\n",
        "\n"
      ],
      "metadata": {
        "colab": {
          "base_uri": "https://localhost:8080/"
        },
        "id": "75qvXdMuAILr",
        "outputId": "04c2bda4-6bd4-41a9-c018-d7230df79b98"
      },
      "execution_count": 37,
      "outputs": [
        {
          "output_type": "stream",
          "name": "stdout",
          "text": [
            "(1149780, 3)\n"
          ]
        }
      ]
    },
    {
      "cell_type": "code",
      "source": [
        "# Preview the datasets\n",
        "print(users.head())\n"
      ],
      "metadata": {
        "colab": {
          "base_uri": "https://localhost:8080/"
        },
        "id": "V5LLVSPeAJ7h",
        "outputId": "99b52284-1fe3-4db1-e96d-be7d4f0ae532"
      },
      "execution_count": 38,
      "outputs": [
        {
          "output_type": "stream",
          "name": "stdout",
          "text": [
            "   User-ID                            Location   Age\n",
            "0        1                  nyc, new york, usa   NaN\n",
            "1        2           stockton, california, usa  18.0\n",
            "2        3     moscow, yukon territory, russia   NaN\n",
            "3        4           porto, v.n.gaia, portugal  17.0\n",
            "4        5  farnborough, hants, united kingdom   NaN\n"
          ]
        }
      ]
    },
    {
      "cell_type": "code",
      "source": [
        "print(books.head())\n"
      ],
      "metadata": {
        "colab": {
          "base_uri": "https://localhost:8080/"
        },
        "id": "1fF9MWBUALhL",
        "outputId": "3a35b792-4be3-4bec-d33d-cae230367a24"
      },
      "execution_count": 39,
      "outputs": [
        {
          "output_type": "stream",
          "name": "stdout",
          "text": [
            "         ISBN                                         Book-Title  \\\n",
            "0  0195153448                                Classical Mythology   \n",
            "1  0002005018                                       Clara Callan   \n",
            "2  0060973129                               Decision in Normandy   \n",
            "3  0374157065  Flu: The Story of the Great Influenza Pandemic...   \n",
            "4  0393045218                             The Mummies of Urumchi   \n",
            "\n",
            "            Book-Author Year-Of-Publication                   Publisher  \\\n",
            "0    Mark P. O. Morford                2002     Oxford University Press   \n",
            "1  Richard Bruce Wright                2001       HarperFlamingo Canada   \n",
            "2          Carlo D'Este                1991             HarperPerennial   \n",
            "3      Gina Bari Kolata                1999        Farrar Straus Giroux   \n",
            "4       E. J. W. Barber                1999  W. W. Norton &amp; Company   \n",
            "\n",
            "                                         Image-URL-S  \\\n",
            "0  http://images.amazon.com/images/P/0195153448.0...   \n",
            "1  http://images.amazon.com/images/P/0002005018.0...   \n",
            "2  http://images.amazon.com/images/P/0060973129.0...   \n",
            "3  http://images.amazon.com/images/P/0374157065.0...   \n",
            "4  http://images.amazon.com/images/P/0393045218.0...   \n",
            "\n",
            "                                         Image-URL-M  \\\n",
            "0  http://images.amazon.com/images/P/0195153448.0...   \n",
            "1  http://images.amazon.com/images/P/0002005018.0...   \n",
            "2  http://images.amazon.com/images/P/0060973129.0...   \n",
            "3  http://images.amazon.com/images/P/0374157065.0...   \n",
            "4  http://images.amazon.com/images/P/0393045218.0...   \n",
            "\n",
            "                                         Image-URL-L  \n",
            "0  http://images.amazon.com/images/P/0195153448.0...  \n",
            "1  http://images.amazon.com/images/P/0002005018.0...  \n",
            "2  http://images.amazon.com/images/P/0060973129.0...  \n",
            "3  http://images.amazon.com/images/P/0374157065.0...  \n",
            "4  http://images.amazon.com/images/P/0393045218.0...  \n"
          ]
        }
      ]
    },
    {
      "cell_type": "code",
      "source": [
        "print(ratings.head())"
      ],
      "metadata": {
        "colab": {
          "base_uri": "https://localhost:8080/"
        },
        "id": "Llb4BmtqANbj",
        "outputId": "3447885e-7d48-4389-b163-9d90de4bc8fc"
      },
      "execution_count": 40,
      "outputs": [
        {
          "output_type": "stream",
          "name": "stdout",
          "text": [
            "   User-ID        ISBN  Book-Rating\n",
            "0   276725  034545104X            0\n",
            "1   276726  0155061224            5\n",
            "2   276727  0446520802            0\n",
            "3   276729  052165615X            3\n",
            "4   276729  0521795028            6\n"
          ]
        }
      ]
    },
    {
      "cell_type": "code",
      "source": [
        "# Display column names to verify\n",
        "print(\"Users columns:\", users.columns)\n",
        "print(\"Books columns:\", books.columns)\n",
        "print(\"Ratings columns:\", ratings.columns)"
      ],
      "metadata": {
        "colab": {
          "base_uri": "https://localhost:8080/"
        },
        "id": "7ORMlAfzBpWB",
        "outputId": "076dcf3e-a9d3-4258-ede5-fa74452d9ea9"
      },
      "execution_count": 41,
      "outputs": [
        {
          "output_type": "stream",
          "name": "stdout",
          "text": [
            "Users columns: Index(['User-ID', 'Location', 'Age'], dtype='object')\n",
            "Books columns: Index(['ISBN', 'Book-Title', 'Book-Author', 'Year-Of-Publication', 'Publisher',\n",
            "       'Image-URL-S', 'Image-URL-M', 'Image-URL-L'],\n",
            "      dtype='object')\n",
            "Ratings columns: Index(['User-ID', 'ISBN', 'Book-Rating'], dtype='object')\n"
          ]
        }
      ]
    },
    {
      "cell_type": "code",
      "source": [
        "# Split 'Location' into 'City', 'State', 'Country'\n",
        "users[['City', 'State', 'Country']] = users['Location'].str.split(',', expand=True)[[0, 1, 2]]\n",
        "users.head()\n",
        "\n",
        "# Remove duplicate books\n",
        "new_books = books.drop_duplicates('Book-Title')\n",
        "print(new_books.shape)\n",
        "\n",
        "# Merge ratings with book titles\n",
        "ratings_with_name = ratings.merge(new_books, on='ISBN')\n",
        "ratings_with_name.drop(['ISBN', 'Image-URL-S', 'Image-URL-M', 'Image-URL-L'], axis=1, inplace=True)\n",
        "print(ratings_with_name.head())\n",
        "\n",
        "# Merge with user data\n",
        "users_ratings_matrix = ratings_with_name.merge(users, on='User-ID')\n",
        "users_ratings_matrix.drop(['Location', 'Age', 'City', 'State', 'Country'], axis=1, inplace=True)\n",
        "print(users_ratings_matrix.head())\n",
        "\n",
        "# Drop missing values\n",
        "users_ratings_matrix.dropna(inplace=True)\n",
        "print(users_ratings_matrix.shape)\n",
        "\n",
        "# Filter users and books based on the number of ratings\n",
        "x = users_ratings_matrix.groupby('User-ID').count()['Book-Rating'] > 100\n",
        "knowledgeable_users = x[x].index\n",
        "filtered_users_ratings = users_ratings_matrix[users_ratings_matrix['User-ID'].isin(knowledgeable_users)]\n",
        "\n",
        "y = filtered_users_ratings.groupby('Book-Title').count()['Book-Rating'] >= 50\n",
        "famous_books = y[y].index\n",
        "final_users_ratings = filtered_users_ratings[filtered_users_ratings['Book-Title'].isin(famous_books)]\n",
        "print(final_users_ratings.head())\n",
        "\n",
        "# Create pivot table\n",
        "pivot_table = final_users_ratings.pivot_table(index='Book-Title', columns='User-ID', values='Book-Rating')\n",
        "pivot_table.fillna(0, inplace=True)\n",
        "print(pivot_table.head())\n",
        "\n",
        "# Normalize the pivot table\n",
        "scaler = StandardScaler(with_mean=True, with_std=True)\n",
        "pivot_table_normalized = scaler.fit_transform(pivot_table)\n",
        "print(pivot_table_normalized)\n"
      ],
      "metadata": {
        "colab": {
          "base_uri": "https://localhost:8080/"
        },
        "id": "CSZG1D5K2h2R",
        "outputId": "8bec8b89-b33c-44db-ae49-688c36669e75"
      },
      "execution_count": 42,
      "outputs": [
        {
          "output_type": "stream",
          "name": "stdout",
          "text": [
            "(242135, 8)\n",
            "   User-ID  Book-Rating            Book-Title Book-Author Year-Of-Publication  \\\n",
            "0   276725            0  Flesh Tones: A Novel  M. J. Rose                2002   \n",
            "1     2313            5  Flesh Tones: A Novel  M. J. Rose                2002   \n",
            "2     6543            0  Flesh Tones: A Novel  M. J. Rose                2002   \n",
            "3     8680            5  Flesh Tones: A Novel  M. J. Rose                2002   \n",
            "4    10314            9  Flesh Tones: A Novel  M. J. Rose                2002   \n",
            "\n",
            "          Publisher  \n",
            "0  Ballantine Books  \n",
            "1  Ballantine Books  \n",
            "2  Ballantine Books  \n",
            "3  Ballantine Books  \n",
            "4  Ballantine Books  \n",
            "   User-ID  Book-Rating                                        Book-Title  \\\n",
            "0   276725            0                              Flesh Tones: A Novel   \n",
            "1     2313            5                              Flesh Tones: A Novel   \n",
            "2     2313            8             In Cold Blood (Vintage International)   \n",
            "3     2313            9  Divine Secrets of the Ya-Ya Sisterhood : A Novel   \n",
            "4     2313            5                            The Mistress of Spices   \n",
            "\n",
            "                  Book-Author Year-Of-Publication               Publisher  \n",
            "0                  M. J. Rose                2002        Ballantine Books  \n",
            "1                  M. J. Rose                2002        Ballantine Books  \n",
            "2               TRUMAN CAPOTE                1994                 Vintage  \n",
            "3               Rebecca Wells                1996           HarperCollins  \n",
            "4  Chitra Banerjee Divakaruni                1998  Anchor Books/Doubleday  \n",
            "(883076, 6)\n",
            "    User-ID  Book-Rating                              Book-Title  \\\n",
            "37     6543            0               The Lovely Bones: A Novel   \n",
            "38     6543            0                       The Da Vinci Code   \n",
            "39     6543            0                             Wild Animus   \n",
            "40     6543            0  Four To Score (A Stephanie Plum Novel)   \n",
            "42     6543           10       Roses Are Red (Alex Cross Novels)   \n",
            "\n",
            "        Book-Author Year-Of-Publication                Publisher  \n",
            "37     Alice Sebold                2002            Little, Brown  \n",
            "38        Dan Brown                2003                Doubleday  \n",
            "39     Rich Shapero                2004                  Too Far  \n",
            "40  Janet Evanovich                1999  St. Martin's Paperbacks  \n",
            "42  James Patterson                2001            Warner Vision  \n",
            "User-ID              254     507     882     1424    1435    1733    1903    \\\n",
            "Book-Title                                                                    \n",
            "1984                    9.0     0.0     0.0     0.0     0.0     0.0     0.0   \n",
            "1st to Die: A Novel     0.0     0.0     0.0     0.0     0.0     0.0     0.0   \n",
            "2010: Odyssey Two       0.0     0.0     0.0     0.0     0.0     0.0     0.0   \n",
            "2nd Chance              0.0     0.0     0.0     0.0     0.0     0.0     0.0   \n",
            "4 Blondes               0.0     0.0     0.0     0.0     0.0     0.0     0.0   \n",
            "\n",
            "User-ID              2033    2110    2276    ...  274808  275020  275970  \\\n",
            "Book-Title                                   ...                           \n",
            "1984                    0.0     0.0     0.0  ...     0.0     0.0     0.0   \n",
            "1st to Die: A Novel     0.0     0.0     0.0  ...     0.0     0.0     0.0   \n",
            "2010: Odyssey Two       0.0     0.0     0.0  ...     0.0     0.0     0.0   \n",
            "2nd Chance              0.0     0.0     0.0  ...     0.0     0.0     0.0   \n",
            "4 Blondes               0.0     0.0     0.0  ...     0.0     0.0     0.0   \n",
            "\n",
            "User-ID              276680  277427  277478  277639  278137  278188  278418  \n",
            "Book-Title                                                                   \n",
            "1984                    0.0     0.0     0.0     0.0     0.0     0.0     0.0  \n",
            "1st to Die: A Novel     0.0     0.0     0.0     0.0     0.0     0.0     0.0  \n",
            "2010: Odyssey Two       0.0     0.0     0.0     0.0     0.0     0.0     0.0  \n",
            "2nd Chance              0.0     0.0     0.0     0.0     0.0     0.0     0.0  \n",
            "4 Blondes               0.0     0.0     0.0     0.0     0.0     0.0     0.0  \n",
            "\n",
            "[5 rows x 1391 columns]\n",
            "[[ 7.64872154 -0.07946654 -0.11651892 ... -0.08988424 -0.08753254\n",
            "  -0.0977649 ]\n",
            " [-0.13389447 -0.07946654 -0.11651892 ... -0.08988424 -0.08753254\n",
            "  -0.0977649 ]\n",
            " [-0.13389447 -0.07946654 -0.11651892 ... -0.08988424 -0.08753254\n",
            "  -0.0977649 ]\n",
            " ...\n",
            " [-0.13389447 -0.07946654 -0.11651892 ... -0.08988424 -0.08753254\n",
            "  -0.0977649 ]\n",
            " [-0.13389447 -0.07946654 -0.11651892 ... -0.08988424 -0.08753254\n",
            "  -0.0977649 ]\n",
            " [-0.13389447 -0.07946654 -0.11651892 ... -0.08988424 -0.08753254\n",
            "  -0.0977649 ]]\n"
          ]
        }
      ]
    },
    {
      "cell_type": "code",
      "source": [
        "# Model Building\n",
        "similarity_matrix = cosine_similarity(pivot_table_normalized)\n",
        "print(similarity_matrix.shape)\n"
      ],
      "metadata": {
        "colab": {
          "base_uri": "https://localhost:8080/"
        },
        "id": "bki4WPQS2kRH",
        "outputId": "052a4b14-dab1-4b86-eaaf-931adc79fea1"
      },
      "execution_count": 43,
      "outputs": [
        {
          "output_type": "stream",
          "name": "stdout",
          "text": [
            "(620, 620)\n"
          ]
        }
      ]
    },
    {
      "cell_type": "code",
      "source": [
        "from IPython.display import display, Image\n",
        "\n",
        "def recommend(book_name):\n",
        "    # Get the index of the book\n",
        "    try:\n",
        "        index = np.where(pivot_table.index == book_name)[0][0]\n",
        "    except IndexError:\n",
        "        return f\"Book '{book_name}' not found in the dataset.\"\n",
        "\n",
        "    # Sort the books based on the similarity score\n",
        "    similar_books = sorted(list(enumerate(similarity_matrix[index])), key=lambda x: x[1], reverse=True)[1:10]\n",
        "\n",
        "    # Create a list to store recommended book details\n",
        "    recommendations = []\n",
        "\n",
        "    for i, score in similar_books:\n",
        "        # Get book details\n",
        "        book_data = new_books[new_books['Book-Title'] == pivot_table.index[i]]\n",
        "        for title, author, image_url in zip(book_data['Book-Title'], book_data['Book-Author'], book_data['Image-URL-M']):\n",
        "            recommendations.append({\n",
        "                \"title\": title,\n",
        "                \"author\": author,\n",
        "                \"similarity\": score,\n",
        "                \"image_url\": image_url\n",
        "            })\n",
        "\n",
        "    # Display images alongside book details\n",
        "    for rec in recommendations:\n",
        "        display(Image(url=rec['image_url'], width=100))\n",
        "        print(f\"Title: {rec['title']}, Author: {rec['author']}\")\n",
        "\n",
        "# Test the recommendation function\n",
        "recommend('1984')\n"
      ],
      "metadata": {
        "colab": {
          "base_uri": "https://localhost:8080/",
          "height": 1000
        },
        "id": "HDVJgV7Z2mx7",
        "outputId": "560b578a-4a81-4039-bb17-a97eafff9da4"
      },
      "execution_count": 47,
      "outputs": [
        {
          "output_type": "display_data",
          "data": {
            "text/html": [
              "<img src=\"http://images.amazon.com/images/P/0345368754.01.MZZZZZZZ.jpg\" width=\"100\"/>"
            ],
            "text/plain": [
              "<IPython.core.display.Image object>"
            ]
          },
          "metadata": {}
        },
        {
          "output_type": "stream",
          "name": "stdout",
          "text": [
            "Title: Foucault's Pendulum, Author: Umberto Eco\n"
          ]
        },
        {
          "output_type": "display_data",
          "data": {
            "text/html": [
              "<img src=\"http://images.amazon.com/images/P/0684848783.01.MZZZZZZZ.jpg\" width=\"100\"/>"
            ],
            "text/plain": [
              "<IPython.core.display.Image object>"
            ]
          },
          "metadata": {}
        },
        {
          "output_type": "stream",
          "name": "stdout",
          "text": [
            "Title: Tis : A Memoir, Author: Frank McCourt\n"
          ]
        },
        {
          "output_type": "display_data",
          "data": {
            "text/html": [
              "<img src=\"http://images.amazon.com/images/P/0451526341.01.MZZZZZZZ.jpg\" width=\"100\"/>"
            ],
            "text/plain": [
              "<IPython.core.display.Image object>"
            ]
          },
          "metadata": {}
        },
        {
          "output_type": "stream",
          "name": "stdout",
          "text": [
            "Title: Animal Farm, Author: George Orwell\n"
          ]
        },
        {
          "output_type": "display_data",
          "data": {
            "text/html": [
              "<img src=\"http://images.amazon.com/images/P/0440221595.01.MZZZZZZZ.jpg\" width=\"100\"/>"
            ],
            "text/plain": [
              "<IPython.core.display.Image object>"
            ]
          },
          "metadata": {}
        },
        {
          "output_type": "stream",
          "name": "stdout",
          "text": [
            "Title: The Glass Lake, Author: Maeve Binchy\n"
          ]
        },
        {
          "output_type": "display_data",
          "data": {
            "text/html": [
              "<img src=\"http://images.amazon.com/images/P/0373218397.01.MZZZZZZZ.jpg\" width=\"100\"/>"
            ],
            "text/plain": [
              "<IPython.core.display.Image object>"
            ]
          },
          "metadata": {}
        },
        {
          "output_type": "stream",
          "name": "stdout",
          "text": [
            "Title: Summer Pleasures, Author: Nora Roberts\n"
          ]
        },
        {
          "output_type": "display_data",
          "data": {
            "text/html": [
              "<img src=\"http://images.amazon.com/images/P/0440180295.01.MZZZZZZZ.jpg\" width=\"100\"/>"
            ],
            "text/plain": [
              "<IPython.core.display.Image object>"
            ]
          },
          "metadata": {}
        },
        {
          "output_type": "stream",
          "name": "stdout",
          "text": [
            "Title: Slaughterhouse Five or the Children's Crusade: A Duty Dance With Death, Author: Kurt Vonnegut\n"
          ]
        },
        {
          "output_type": "display_data",
          "data": {
            "text/html": [
              "<img src=\"http://images.amazon.com/images/P/0345303067.01.MZZZZZZZ.jpg\" width=\"100\"/>"
            ],
            "text/plain": [
              "<IPython.core.display.Image object>"
            ]
          },
          "metadata": {}
        },
        {
          "output_type": "stream",
          "name": "stdout",
          "text": [
            "Title: 2010: Odyssey Two, Author: Arthur C. Clarke\n"
          ]
        },
        {
          "output_type": "display_data",
          "data": {
            "text/html": [
              "<img src=\"http://images.amazon.com/images/P/0399146431.01.MZZZZZZZ.jpg\" width=\"100\"/>"
            ],
            "text/plain": [
              "<IPython.core.display.Image object>"
            ]
          },
          "metadata": {}
        },
        {
          "output_type": "stream",
          "name": "stdout",
          "text": [
            "Title: The Bonesetter's Daughter, Author: Amy Tan\n"
          ]
        },
        {
          "output_type": "display_data",
          "data": {
            "text/html": [
              "<img src=\"http://images.amazon.com/images/P/0142002267.01.MZZZZZZZ.jpg\" width=\"100\"/>"
            ],
            "text/plain": [
              "<IPython.core.display.Image object>"
            ]
          },
          "metadata": {}
        },
        {
          "output_type": "stream",
          "name": "stdout",
          "text": [
            "Title: Word Freak: Heartbreak, Triumph, Genius, and Obsession in the World of Competitive Scrabble Players, Author: Stefan Fatsis\n"
          ]
        }
      ]
    },
    {
      "cell_type": "code",
      "source": [],
      "metadata": {
        "id": "6K07Ygyo2pUV"
      },
      "execution_count": null,
      "outputs": []
    }
  ]
}